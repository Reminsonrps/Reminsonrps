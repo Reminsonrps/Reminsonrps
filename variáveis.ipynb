{
  "cells": [
    {
      "cell_type": "markdown",
      "metadata": {
        "id": "view-in-github",
        "colab_type": "text"
      },
      "source": [
        "<a href=\"https://colab.research.google.com/github/Reminsonrps/Reminsonrps/blob/main/vari%C3%A1veis.ipynb\" target=\"_parent\"><img src=\"https://colab.research.google.com/assets/colab-badge.svg\" alt=\"Open In Colab\"/></a>"
      ]
    },
    {
      "cell_type": "code",
      "source": [
        "idade = int(input('insira sua idade :'))\n",
        "if idade >= 60:\n",
        "  print ('Você  tem direitos aos beneficios do INSS')\n",
        "\n",
        "else :\n",
        "  print ('Voce nao tem direitos aos beneficios do INSS')\n",
        "\n",
        "\n"
      ],
      "metadata": {
        "colab": {
          "base_uri": "https://localhost:8080/"
        },
        "id": "b0D4tsJ-FFq9",
        "outputId": "89c05b57-a9bc-45c7-ab49-4f6b38060ac4"
      },
      "execution_count": 14,
      "outputs": [
        {
          "output_type": "stream",
          "name": "stdout",
          "text": [
            "insira sua idade :60\n",
            "Voce tem direitos aos beneficios do INSS\n"
          ]
        }
      ]
    }
  ],
  "metadata": {
    "colab": {
      "provenance": [],
      "include_colab_link": true
    },
    "kernelspec": {
      "display_name": "Python 3",
      "name": "python3"
    }
  },
  "nbformat": 4,
  "nbformat_minor": 0
}